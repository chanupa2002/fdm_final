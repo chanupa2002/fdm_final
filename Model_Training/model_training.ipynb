{
  "cells": [
    {
      "cell_type": "code",
      "execution_count": 100,
      "metadata": {
        "id": "dpiOETDubrF1"
      },
      "outputs": [],
      "source": [
        "import numpy as np\n",
        "import pandas as pd\n",
        "from sklearn.preprocessing import LabelEncoder\n",
        "from sklearn.preprocessing import MinMaxScaler\n",
        "from sklearn.model_selection import train_test_split"
      ]
    },
    {
      "cell_type": "code",
      "execution_count": 101,
      "metadata": {
        "id": "ThI7uaXQcnMc"
      },
      "outputs": [],
      "source": [
        "df = pd.read_csv(\"/content/Student Depression Dataset.csv\")"
      ]
    },
    {
      "cell_type": "code",
      "execution_count": 102,
      "metadata": {
        "colab": {
          "base_uri": "https://localhost:8080/"
        },
        "id": "nMFfe6YPc_pi",
        "outputId": "91d7bdd0-eb8f-46e5-abda-ca21738587e9"
      },
      "outputs": [
        {
          "output_type": "stream",
          "name": "stdout",
          "text": [
            "<bound method NDFrame.head of            id  Gender  Age Profession  Academic Pressure  Work Pressure  CGPA  \\\n",
            "0           2    Male   33    Student                  5              0  8.97   \n",
            "1           8  Female   24    Student                  2              0  5.90   \n",
            "2          26    Male   31    Student                  3              0  7.03   \n",
            "3          30  Female   28    Student                  3              0  5.59   \n",
            "4          32  Female   25    Student                  4              0  8.13   \n",
            "...       ...     ...  ...        ...                ...            ...   ...   \n",
            "27896  140685  Female   27    Student                  5              0  5.75   \n",
            "27897  140686    Male   27    Student                  2              0  9.40   \n",
            "27898  140689    Male   31    Student                  3              0  6.61   \n",
            "27899  140690  Female   18    Student                  5              0  6.88   \n",
            "27900  140699    Male   27    Student                  4              0  9.24   \n",
            "\n",
            "       Study Satisfaction  Job Satisfaction     Sleep Duration Dietary Habits  \\\n",
            "0                       2                 0          5-6 hours        Healthy   \n",
            "1                       5                 0          5-6 hours       Moderate   \n",
            "2                       5                 0  Less than 5 hours        Healthy   \n",
            "3                       2                 0          7-8 hours       Moderate   \n",
            "4                       3                 0          5-6 hours       Moderate   \n",
            "...                   ...               ...                ...            ...   \n",
            "27896                   5                 0          5-6 hours      Unhealthy   \n",
            "27897                   3                 0  Less than 5 hours        Healthy   \n",
            "27898                   4                 0          5-6 hours      Unhealthy   \n",
            "27899                   2                 0  Less than 5 hours        Healthy   \n",
            "27900                   1                 0  Less than 5 hours        Healthy   \n",
            "\n",
            "         Degree Have you ever had suicidal thoughts ?  Work/Study Hours  \\\n",
            "0       B.Pharm                                   Yes                 3   \n",
            "1           BSc                                    No                 3   \n",
            "2            BA                                    No                 9   \n",
            "3           BCA                                   Yes                 4   \n",
            "4        M.Tech                                   Yes                 1   \n",
            "...         ...                                   ...               ...   \n",
            "27896  Class 12                                   Yes                 7   \n",
            "27897       MSc                                    No                 0   \n",
            "27898        MD                                    No                12   \n",
            "27899  Class 12                                   Yes                10   \n",
            "27900       BCA                                   Yes                 2   \n",
            "\n",
            "       Financial Stress Family History of Mental Illness  Depression  \n",
            "0                   1.0                               No           1  \n",
            "1                   2.0                              Yes           0  \n",
            "2                   1.0                              Yes           0  \n",
            "3                   5.0                              Yes           1  \n",
            "4                   1.0                               No           0  \n",
            "...                 ...                              ...         ...  \n",
            "27896               1.0                              Yes           0  \n",
            "27897               3.0                              Yes           0  \n",
            "27898               2.0                               No           0  \n",
            "27899               5.0                               No           1  \n",
            "27900               3.0                              Yes           1  \n",
            "\n",
            "[27901 rows x 17 columns]>\n"
          ]
        }
      ],
      "source": [
        "print(df.head)"
      ]
    },
    {
      "cell_type": "code",
      "execution_count": 103,
      "metadata": {
        "colab": {
          "base_uri": "https://localhost:8080/"
        },
        "id": "TqGkyFxVdBtQ",
        "outputId": "4c386e41-feb1-45f1-ddf2-cdd9ba6f87fc"
      },
      "outputs": [
        {
          "output_type": "stream",
          "name": "stdout",
          "text": [
            "['id', 'Gender', 'Age', 'Profession', 'Academic Pressure', 'Work Pressure', 'CGPA', 'Study Satisfaction', 'Job Satisfaction', 'Sleep Duration', 'Dietary Habits', 'Degree', 'Have you ever had suicidal thoughts ?', 'Work/Study Hours', 'Financial Stress', 'Family History of Mental Illness', 'Depression']\n"
          ]
        }
      ],
      "source": [
        "print(df.columns.tolist())"
      ]
    },
    {
      "cell_type": "code",
      "execution_count": 104,
      "metadata": {
        "colab": {
          "base_uri": "https://localhost:8080/"
        },
        "id": "AJLEdsjddT4Y",
        "outputId": "d3e78cc9-6770-4363-a0ad-6292fffd9363"
      },
      "outputs": [
        {
          "output_type": "stream",
          "name": "stdout",
          "text": [
            "\n",
            "Column: id\n",
            "[     2      8     26 ... 140689 140690 140699]\n",
            "Total unique values: 27901\n",
            "\n",
            "Column: Gender\n",
            "['Male' 'Female']\n",
            "Total unique values: 2\n",
            "\n",
            "Column: Age\n",
            "[33 24 31 28 25 29 30 27 19 20 23 18 21 22 34 32 26 39 35 42 36 58 49 38\n",
            " 51 44 43 46 59 54 48 56 37 41]\n",
            "Total unique values: 34\n",
            "\n",
            "Column: Profession\n",
            "['Student' 'Civil Engineer' 'Architect' 'UX/UI Designer'\n",
            " 'Digital Marketer' 'Content Writer' 'Educational Consultant' 'Teacher'\n",
            " 'Manager' 'Chef' 'Doctor' 'Lawyer' 'Entrepreneur' 'Pharmacist']\n",
            "Total unique values: 14\n",
            "\n",
            "Column: Academic Pressure\n",
            "[5 2 3 4 1 0]\n",
            "Total unique values: 6\n",
            "\n",
            "Column: Work Pressure\n",
            "[0 5 2]\n",
            "Total unique values: 3\n",
            "\n",
            "Column: CGPA\n",
            "[ 8.97    5.9     7.03    5.59    8.13    5.7     9.54    8.04    9.79\n",
            "  8.38    6.1     7.04    8.52    5.64    8.58    6.51    7.25    7.83\n",
            "  9.93    8.74    6.73    5.57    8.59    7.1     6.08    5.74    9.86\n",
            "  6.7     6.21    5.87    6.37    9.72    5.88    9.56    6.99    5.24\n",
            "  9.21    7.85    6.95    5.86    7.92    9.66    8.94    9.71    7.87\n",
            "  5.6     7.9     5.46    6.79    8.7     7.38    8.5     7.09    9.82\n",
            "  8.89    7.94    9.11    6.75    7.53    9.49    9.01    7.64    5.27\n",
            "  6.      9.44    5.75    7.51    9.05    6.38    8.95    9.88    5.32\n",
            "  6.27    7.7     8.1     9.59    8.96    5.51    7.43    8.79    9.95\n",
            "  5.37    6.86    8.32    9.74    5.66    7.48    8.23    8.81    6.03\n",
            "  5.56    5.68    5.14    7.61    6.17    8.17    9.87    8.75    6.16\n",
            "  9.5     7.99    5.67    8.92    6.19    5.76    6.25    5.11    5.58\n",
            "  5.65    9.89    8.03    6.61    9.41    8.64    7.21    8.28    6.04\n",
            "  9.13    8.08    9.96    5.12    8.35    7.07    9.6     9.24    8.54\n",
            "  8.78    8.93    8.91    9.04    6.83    5.85    7.74    6.41    8.9\n",
            "  7.75    7.88    5.42    7.52    7.68    8.4     9.39    6.84    5.99\n",
            "  8.62    8.53    7.47    6.78    6.42    9.92    8.39    5.89    7.22\n",
            "  6.81    9.02    9.97    9.63    9.67    5.41    7.27    6.05    6.85\n",
            "  9.33    5.81    6.53    5.98    6.02    6.74    5.26    7.72    7.39\n",
            "  8.43    9.34    5.44    5.82    5.72    8.19    8.44    8.98    9.37\n",
            "  5.8     7.28    7.6     7.91    9.17    7.46    9.43    9.91    9.36\n",
            "  5.16    7.08    9.26    8.83   10.      7.8     9.46    6.63    7.24\n",
            "  6.47    7.77    5.06    7.17    8.24    6.88    9.03    5.08    5.45\n",
            "  8.46    9.19    6.36    8.73    7.11    9.12    9.4     8.11    9.98\n",
            "  5.55    8.61    8.14    6.89    9.84    5.48    8.21    7.82    8.55\n",
            "  5.79    8.77    8.29    6.92    7.37    9.7     6.26    7.26    7.5\n",
            "  6.82    7.15    5.77    5.91    5.1     7.71    9.06    5.71    5.84\n",
            "  9.42    6.23    6.29    5.25    9.69    9.9     6.39    8.09    5.83\n",
            "  5.47    6.56    8.71    9.94    6.69    5.52    7.3     7.02    6.33\n",
            "  8.07    8.37    8.      7.79    8.65    6.28    7.35    8.69    7.12\n",
            "  7.32    7.13    5.97    5.09    6.91    6.76    6.52    7.45    8.56\n",
            "  6.5     8.63    8.27    8.49    6.59    9.29    5.3     7.06    5.38\n",
            "  6.65    9.16    8.01    8.25    8.02    8.47    7.34    8.88    7.14\n",
            "  8.42    5.17    9.1     7.49    9.85    7.42    9.31    6.35    7.\n",
            "  5.39    5.61    9.78    9.25    5.69    9.47    8.16    7.23    6.46\n",
            "  0.      8.26    6.32    6.77    8.85    5.03    7.65    5.78    6.24\n",
            "  5.35    6.06    7.78    6.64    7.0625  6.98    6.44    6.09  ]\n",
            "Total unique values: 332\n",
            "\n",
            "Column: Study Satisfaction\n",
            "[2 5 3 4 1 0]\n",
            "Total unique values: 6\n",
            "\n",
            "Column: Job Satisfaction\n",
            "[0 3 4 2 1]\n",
            "Total unique values: 5\n",
            "\n",
            "Column: Sleep Duration\n",
            "['5-6 hours' 'Less than 5 hours' '7-8 hours' 'More than 8 hours' 'Others']\n",
            "Total unique values: 5\n",
            "\n",
            "Column: Dietary Habits\n",
            "['Healthy' 'Moderate' 'Unhealthy' 'Others']\n",
            "Total unique values: 4\n",
            "\n",
            "Column: Degree\n",
            "['B.Pharm' 'BSc' 'BA' 'BCA' 'M.Tech' 'PhD' 'Class 12' 'B.Ed' 'LLB' 'BE'\n",
            " 'M.Ed' 'MSc' 'BHM' 'M.Pharm' 'MCA' 'MA' 'B.Com' 'MD' 'MBA' 'MBBS' 'M.Com'\n",
            " 'B.Arch' 'LLM' 'B.Tech' 'BBA' 'ME' 'MHM' 'Others']\n",
            "Total unique values: 28\n",
            "\n",
            "Column: Have you ever had suicidal thoughts ?\n",
            "['Yes' 'No']\n",
            "Total unique values: 2\n",
            "\n",
            "Column: Work/Study Hours\n",
            "[ 3  9  4  1  0 12  2 11 10  6  8  5  7]\n",
            "Total unique values: 13\n",
            "\n",
            "Column: Financial Stress\n",
            "[ 1.  2.  5.  3.  4. nan]\n",
            "Total unique values: 5\n",
            "\n",
            "Column: Family History of Mental Illness\n",
            "['No' 'Yes']\n",
            "Total unique values: 2\n",
            "\n",
            "Column: Depression\n",
            "[1 0]\n",
            "Total unique values: 2\n"
          ]
        }
      ],
      "source": [
        "for col in df.columns:\n",
        "    print(f\"\\nColumn: {col}\")\n",
        "    print(df[col].unique())\n",
        "    print(f\"Total unique values: {df[col].nunique()}\")"
      ]
    },
    {
      "cell_type": "code",
      "execution_count": 105,
      "metadata": {
        "colab": {
          "base_uri": "https://localhost:8080/"
        },
        "id": "J1rslL8XeBRR",
        "outputId": "581cec20-1112-423f-8e98-942342983229"
      },
      "outputs": [
        {
          "output_type": "stream",
          "name": "stdout",
          "text": [
            "['Gender', 'Age', 'Profession', 'Academic Pressure', 'Work Pressure', 'CGPA', 'Study Satisfaction', 'Job Satisfaction', 'Sleep Duration', 'Dietary Habits', 'Degree', 'Have you ever had suicidal thoughts ?', 'Work/Study Hours', 'Financial Stress', 'Family History of Mental Illness', 'Depression']\n"
          ]
        }
      ],
      "source": [
        "df = df.drop(columns=['id'])\n",
        "\n",
        "print(df.columns.tolist())"
      ]
    },
    {
      "cell_type": "code",
      "execution_count": 106,
      "metadata": {
        "colab": {
          "base_uri": "https://localhost:8080/"
        },
        "id": "t3SFBuNbeeaA",
        "outputId": "e726bd39-610d-4853-e024-ea8f2d8b8ec2"
      },
      "outputs": [
        {
          "output_type": "stream",
          "name": "stdout",
          "text": [
            "   Gender  Age Profession  Academic Pressure  Work Pressure  CGPA  \\\n",
            "0    Male   33    Student                  5              0  8.97   \n",
            "1  Female   24    Student                  2              0  5.90   \n",
            "2    Male   31    Student                  3              0  7.03   \n",
            "3  Female   28    Student                  3              0  5.59   \n",
            "4  Female   25    Student                  4              0  8.13   \n",
            "\n",
            "   Study Satisfaction  Job Satisfaction     Sleep Duration Dietary Habits  \\\n",
            "0                   2                 0          5-6 hours        Healthy   \n",
            "1                   5                 0          5-6 hours       Moderate   \n",
            "2                   5                 0  Less than 5 hours        Healthy   \n",
            "3                   2                 0          7-8 hours       Moderate   \n",
            "4                   3                 0          5-6 hours       Moderate   \n",
            "\n",
            "    Degree Have you ever had suicidal thoughts ?  Work/Study Hours  \\\n",
            "0  B.Pharm                                   Yes                 3   \n",
            "1      BSc                                    No                 3   \n",
            "2       BA                                    No                 9   \n",
            "3      BCA                                   Yes                 4   \n",
            "4   M.Tech                                   Yes                 1   \n",
            "\n",
            "   Financial Stress Family History of Mental Illness  Depression  \n",
            "0               1.0                               No           1  \n",
            "1               2.0                              Yes           0  \n",
            "2               1.0                              Yes           0  \n",
            "3               5.0                              Yes           1  \n",
            "4               1.0                               No           0  \n"
          ]
        }
      ],
      "source": [
        "print(df.head())"
      ]
    },
    {
      "cell_type": "code",
      "execution_count": 107,
      "metadata": {
        "colab": {
          "base_uri": "https://localhost:8080/"
        },
        "id": "C5ppzFJUVreD",
        "outputId": "6c65d801-e7db-4517-a978-5f1888781249"
      },
      "outputs": [
        {
          "output_type": "stream",
          "name": "stdout",
          "text": [
            "Profession\n",
            "Student    27870\n",
            "Others        31\n",
            "Name: count, dtype: int64\n"
          ]
        }
      ],
      "source": [
        "# Find the most frequent profession\n",
        "most_frequent_profession = df['Profession'].value_counts().idxmax()\n",
        "\n",
        "# Replace all other professions with \"Others\"\n",
        "df['Profession'] = df['Profession'].apply(\n",
        "    lambda x: x if x == most_frequent_profession else 'Others'\n",
        ")\n",
        "\n",
        "# Check results\n",
        "print(df['Profession'].value_counts())"
      ]
    },
    {
      "cell_type": "code",
      "execution_count": 108,
      "metadata": {
        "colab": {
          "base_uri": "https://localhost:8080/"
        },
        "id": "S-hXjYfxWcLV",
        "outputId": "336b499c-6bec-45e8-fe17-a0d6ab9ed25d"
      },
      "outputs": [
        {
          "output_type": "stream",
          "name": "stdout",
          "text": [
            "Unique values in Profession column:\n",
            "['Student' 'Others']\n",
            "Total unique values: 2\n"
          ]
        }
      ],
      "source": [
        "print(\"Unique values in Profession column:\")\n",
        "print(df['Profession'].unique())\n",
        "print(\"Total unique values:\", df['Profession'].nunique())\n"
      ]
    },
    {
      "cell_type": "code",
      "execution_count": 109,
      "metadata": {
        "colab": {
          "base_uri": "https://localhost:8080/"
        },
        "id": "CQp1XqYue2Dy",
        "outputId": "1fb4272c-1a08-46ae-98e7-f561465fad61"
      },
      "outputs": [
        {
          "output_type": "stream",
          "name": "stdout",
          "text": [
            "[1. 2. 5. 3. 4.]\n"
          ]
        }
      ],
      "source": [
        "# Replace NaN with 5 in 'Financial Stress' column\n",
        "df['Financial Stress'] = df['Financial Stress'].replace(np.nan, 5)\n",
        "\n",
        "# Check unique values again\n",
        "print(df['Financial Stress'].unique())"
      ]
    },
    {
      "cell_type": "code",
      "execution_count": 110,
      "metadata": {
        "colab": {
          "base_uri": "https://localhost:8080/"
        },
        "id": "8_FoDiLjgEL4",
        "outputId": "cd5fed97-6901-4abb-91a2-a3e22787a479"
      },
      "outputs": [
        {
          "output_type": "stream",
          "name": "stdout",
          "text": [
            "[0.897   0.59    0.703   0.559   0.813   0.57    0.954   0.804   0.979\n",
            " 0.838   0.61    0.704   0.852   0.564   0.858   0.651   0.725   0.783\n",
            " 0.993   0.874   0.673   0.557   0.859   0.71    0.608   0.574   0.986\n",
            " 0.67    0.621   0.587   0.637   0.972   0.588   0.956   0.699   0.524\n",
            " 0.921   0.785   0.695   0.586   0.792   0.966   0.894   0.971   0.787\n",
            " 0.56    0.79    0.546   0.679   0.87    0.738   0.85    0.709   0.982\n",
            " 0.889   0.794   0.911   0.675   0.753   0.949   0.901   0.764   0.527\n",
            " 0.6     0.944   0.575   0.751   0.905   0.638   0.895   0.988   0.532\n",
            " 0.627   0.77    0.81    0.959   0.896   0.551   0.743   0.879   0.995\n",
            " 0.537   0.686   0.832   0.974   0.566   0.748   0.823   0.881   0.603\n",
            " 0.556   0.568   0.514   0.761   0.617   0.817   0.987   0.875   0.616\n",
            " 0.95    0.799   0.567   0.892   0.619   0.576   0.625   0.511   0.558\n",
            " 0.565   0.989   0.803   0.661   0.941   0.864   0.721   0.828   0.604\n",
            " 0.913   0.808   0.996   0.512   0.835   0.707   0.96    0.924   0.854\n",
            " 0.878   0.893   0.891   0.904   0.683   0.585   0.774   0.641   0.89\n",
            " 0.775   0.788   0.542   0.752   0.768   0.84    0.939   0.684   0.599\n",
            " 0.862   0.853   0.747   0.678   0.642   0.992   0.839   0.589   0.722\n",
            " 0.681   0.902   0.997   0.963   0.967   0.541   0.727   0.605   0.685\n",
            " 0.933   0.581   0.653   0.598   0.602   0.674   0.526   0.772   0.739\n",
            " 0.843   0.934   0.544   0.582   0.572   0.819   0.844   0.898   0.937\n",
            " 0.58    0.728   0.76    0.791   0.917   0.746   0.943   0.991   0.936\n",
            " 0.516   0.708   0.926   0.883   1.      0.78    0.946   0.663   0.724\n",
            " 0.647   0.777   0.506   0.717   0.824   0.688   0.903   0.508   0.545\n",
            " 0.846   0.919   0.636   0.873   0.711   0.912   0.94    0.811   0.998\n",
            " 0.555   0.861   0.814   0.689   0.984   0.548   0.821   0.782   0.855\n",
            " 0.579   0.877   0.829   0.692   0.737   0.97    0.626   0.726   0.75\n",
            " 0.682   0.715   0.577   0.591   0.51    0.771   0.906   0.571   0.584\n",
            " 0.942   0.623   0.629   0.525   0.969   0.99    0.639   0.809   0.583\n",
            " 0.547   0.656   0.871   0.994   0.669   0.552   0.73    0.702   0.633\n",
            " 0.807   0.837   0.8     0.779   0.865   0.628   0.735   0.869   0.712\n",
            " 0.732   0.713   0.597   0.509   0.691   0.676   0.652   0.745   0.856\n",
            " 0.65    0.863   0.827   0.849   0.659   0.929   0.53    0.706   0.538\n",
            " 0.665   0.916   0.801   0.825   0.802   0.847   0.734   0.888   0.714\n",
            " 0.842   0.517   0.91    0.749   0.985   0.742   0.931   0.635   0.7\n",
            " 0.539   0.561   0.978   0.925   0.569   0.947   0.816   0.723   0.646\n",
            " 0.      0.826   0.632   0.677   0.885   0.503   0.765   0.578   0.624\n",
            " 0.535   0.606   0.778   0.664   0.70625 0.698   0.644   0.609  ]\n"
          ]
        }
      ],
      "source": [
        "df['CGPA'] = df['CGPA'] / 10\n",
        "print(df['CGPA'].unique())"
      ]
    },
    {
      "cell_type": "code",
      "execution_count": 111,
      "metadata": {
        "id": "Dh5pVyEDg7vm"
      },
      "outputs": [],
      "source": [
        "categorical_cols = [\n",
        "    'Gender', 'Profession', 'Sleep Duration', 'Dietary Habits',\n",
        "    'Degree', 'Have you ever had suicidal thoughts ?', 'Family History of Mental Illness'\n",
        "]\n",
        "\n",
        "label_encoders = {}\n",
        "mappings = {}\n",
        "\n",
        "for col in categorical_cols:\n",
        "    le = LabelEncoder()\n",
        "    df[col] = le.fit_transform(df[col])\n",
        "    label_encoders[col] = le\n",
        "    # Create mapping: original value -> numeric\n",
        "    mappings[col] = dict(zip(le.classes_, le.transform(le.classes_)))"
      ]
    },
    {
      "cell_type": "code",
      "execution_count": 112,
      "metadata": {
        "colab": {
          "base_uri": "https://localhost:8080/"
        },
        "id": "T5wMZ65WixTA",
        "outputId": "67015b04-b0d0-4de8-82de-cc4b256e1bab"
      },
      "outputs": [
        {
          "output_type": "stream",
          "name": "stdout",
          "text": [
            "Mapping for 'Gender': {'Female': np.int64(0), 'Male': np.int64(1)}\n",
            "Mapping for 'Profession': {'Others': np.int64(0), 'Student': np.int64(1)}\n",
            "Mapping for 'Sleep Duration': {'5-6 hours': np.int64(0), '7-8 hours': np.int64(1), 'Less than 5 hours': np.int64(2), 'More than 8 hours': np.int64(3), 'Others': np.int64(4)}\n",
            "Mapping for 'Dietary Habits': {'Healthy': np.int64(0), 'Moderate': np.int64(1), 'Others': np.int64(2), 'Unhealthy': np.int64(3)}\n",
            "Mapping for 'Degree': {'B.Arch': np.int64(0), 'B.Com': np.int64(1), 'B.Ed': np.int64(2), 'B.Pharm': np.int64(3), 'B.Tech': np.int64(4), 'BA': np.int64(5), 'BBA': np.int64(6), 'BCA': np.int64(7), 'BE': np.int64(8), 'BHM': np.int64(9), 'BSc': np.int64(10), 'Class 12': np.int64(11), 'LLB': np.int64(12), 'LLM': np.int64(13), 'M.Com': np.int64(14), 'M.Ed': np.int64(15), 'M.Pharm': np.int64(16), 'M.Tech': np.int64(17), 'MA': np.int64(18), 'MBA': np.int64(19), 'MBBS': np.int64(20), 'MCA': np.int64(21), 'MD': np.int64(22), 'ME': np.int64(23), 'MHM': np.int64(24), 'MSc': np.int64(25), 'Others': np.int64(26), 'PhD': np.int64(27)}\n",
            "Mapping for 'Have you ever had suicidal thoughts ?': {'No': np.int64(0), 'Yes': np.int64(1)}\n",
            "Mapping for 'Family History of Mental Illness': {'No': np.int64(0), 'Yes': np.int64(1)}\n"
          ]
        }
      ],
      "source": [
        "# Print mapping for all categorical columns\n",
        "for col, mapping in mappings.items():\n",
        "    print(f\"Mapping for '{col}': {mapping}\")"
      ]
    },
    {
      "cell_type": "code",
      "execution_count": 113,
      "metadata": {
        "colab": {
          "base_uri": "https://localhost:8080/"
        },
        "id": "5xG9nYjzjL16",
        "outputId": "53bec911-73bb-415a-aee9-847bdcd46bd5"
      },
      "outputs": [
        {
          "output_type": "stream",
          "name": "stdout",
          "text": [
            "   Gender  Age  Profession  Academic Pressure  Work Pressure   CGPA  \\\n",
            "0       1   33           1                  5              0  0.897   \n",
            "1       0   24           1                  2              0  0.590   \n",
            "2       1   31           1                  3              0  0.703   \n",
            "3       0   28           1                  3              0  0.559   \n",
            "4       0   25           1                  4              0  0.813   \n",
            "\n",
            "   Study Satisfaction  Job Satisfaction  Sleep Duration  Dietary Habits  \\\n",
            "0                   2                 0               0               0   \n",
            "1                   5                 0               0               1   \n",
            "2                   5                 0               2               0   \n",
            "3                   2                 0               1               1   \n",
            "4                   3                 0               0               1   \n",
            "\n",
            "   Degree  Have you ever had suicidal thoughts ?  Work/Study Hours  \\\n",
            "0       3                                      1                 3   \n",
            "1      10                                      0                 3   \n",
            "2       5                                      0                 9   \n",
            "3       7                                      1                 4   \n",
            "4      17                                      1                 1   \n",
            "\n",
            "   Financial Stress  Family History of Mental Illness  Depression  \n",
            "0               1.0                                 0           1  \n",
            "1               2.0                                 1           0  \n",
            "2               1.0                                 1           0  \n",
            "3               5.0                                 1           1  \n",
            "4               1.0                                 0           0  \n"
          ]
        }
      ],
      "source": [
        "print(df.head())"
      ]
    },
    {
      "cell_type": "code",
      "execution_count": 114,
      "metadata": {
        "id": "nmzMXIfZjnaL"
      },
      "outputs": [],
      "source": [
        "\n",
        "numerical_cols = [\n",
        "    'Age', 'Academic Pressure', 'Work Pressure', 'CGPA',\n",
        "    'Study Satisfaction', 'Job Satisfaction', 'Sleep Duration',\n",
        "    'Dietary Habits', 'Degree', 'Work/Study Hours', 'Financial Stress'\n",
        "]\n",
        "\n",
        "# Initialize Min-Max Scaler\n",
        "scaler = MinMaxScaler()\n",
        "\n",
        "# Fit scaler on numerical columns and transform\n",
        "df[numerical_cols] = scaler.fit_transform(df[numerical_cols])\n"
      ]
    },
    {
      "cell_type": "code",
      "execution_count": 115,
      "metadata": {
        "colab": {
          "base_uri": "https://localhost:8080/"
        },
        "id": "KgDXLrK5mYBd",
        "outputId": "4ab77472-604b-4f3c-9f6a-3f8e1a53fd1f"
      },
      "outputs": [
        {
          "output_type": "stream",
          "name": "stdout",
          "text": [
            "   Gender       Age  Profession  Academic Pressure  Work Pressure   CGPA  \\\n",
            "0       1  0.365854           1                1.0            0.0  0.897   \n",
            "1       0  0.146341           1                0.4            0.0  0.590   \n",
            "2       1  0.317073           1                0.6            0.0  0.703   \n",
            "3       0  0.243902           1                0.6            0.0  0.559   \n",
            "4       0  0.170732           1                0.8            0.0  0.813   \n",
            "\n",
            "   Study Satisfaction  Job Satisfaction  Sleep Duration  Dietary Habits  \\\n",
            "0                 0.4               0.0            0.00        0.000000   \n",
            "1                 1.0               0.0            0.00        0.333333   \n",
            "2                 1.0               0.0            0.50        0.000000   \n",
            "3                 0.4               0.0            0.25        0.333333   \n",
            "4                 0.6               0.0            0.00        0.333333   \n",
            "\n",
            "     Degree  Have you ever had suicidal thoughts ?  Work/Study Hours  \\\n",
            "0  0.111111                                      1          0.250000   \n",
            "1  0.370370                                      0          0.250000   \n",
            "2  0.185185                                      0          0.750000   \n",
            "3  0.259259                                      1          0.333333   \n",
            "4  0.629630                                      1          0.083333   \n",
            "\n",
            "   Financial Stress  Family History of Mental Illness  Depression  \n",
            "0              0.00                                 0           1  \n",
            "1              0.25                                 1           0  \n",
            "2              0.00                                 1           0  \n",
            "3              1.00                                 1           1  \n",
            "4              0.00                                 0           0  \n"
          ]
        }
      ],
      "source": [
        "print(df.head())"
      ]
    },
    {
      "cell_type": "code",
      "execution_count": 116,
      "metadata": {
        "colab": {
          "base_uri": "https://localhost:8080/"
        },
        "id": "MQhIvTzyqnfu",
        "outputId": "1a27099b-eb40-43cc-e507-7a5d8f7774f9"
      },
      "outputs": [
        {
          "output_type": "stream",
          "name": "stdout",
          "text": [
            "Missing values in the dataset:\n",
            " Gender                                   0\n",
            "Age                                      0\n",
            "Profession                               0\n",
            "Academic Pressure                        0\n",
            "Work Pressure                            0\n",
            "CGPA                                     0\n",
            "Study Satisfaction                       0\n",
            "Job Satisfaction                         0\n",
            "Sleep Duration                           0\n",
            "Dietary Habits                           0\n",
            "Degree                                   0\n",
            "Have you ever had suicidal thoughts ?    0\n",
            "Work/Study Hours                         0\n",
            "Financial Stress                         0\n",
            "Family History of Mental Illness         0\n",
            "Depression                               0\n",
            "dtype: int64\n"
          ]
        }
      ],
      "source": [
        "# Drop rows with any missing values\n",
        "df = df.dropna()\n",
        "\n",
        "# Verify if any missing values remain\n",
        "print(\"Missing values in the dataset:\\n\", df.isnull().sum())\n"
      ]
    },
    {
      "cell_type": "code",
      "execution_count": 117,
      "metadata": {
        "colab": {
          "base_uri": "https://localhost:8080/"
        },
        "id": "mxCDFVVArVf_",
        "outputId": "5f6bcb92-befd-4f56-fe7a-0ad8831f00c8"
      },
      "outputs": [
        {
          "output_type": "stream",
          "name": "stdout",
          "text": [
            "Number of duplicate rows: 0\n"
          ]
        }
      ],
      "source": [
        "# Check for duplicates\n",
        "print(\"Number of duplicate rows:\", df.duplicated().sum())\n",
        "\n",
        "# Drop duplicates\n",
        "df = df.drop_duplicates()"
      ]
    },
    {
      "cell_type": "code",
      "execution_count": 118,
      "metadata": {
        "colab": {
          "base_uri": "https://localhost:8080/",
          "height": 1000
        },
        "id": "jHnYP4EGrc9X",
        "outputId": "5df22d6c-c1b0-44af-be33-092c4a6c43b4"
      },
      "outputs": [
        {
          "output_type": "display_data",
          "data": {
            "text/plain": [
              "<Figure size 640x480 with 1 Axes>"
            ],
            "image/png": "[encoded data removed]"
          },
          "metadata": {}
        },
        {
          "output_type": "display_data",
          "data": {
            "text/plain": [
              "<Figure size 640x480 with 1 Axes>"
            ],
            "image/png": "[encoded data removed]"
          },
          "metadata": {}
        },
        {
          "output_type": "display_data",
          "data": {
            "text/plain": [
              "<Figure size 640x480 with 1 Axes>"
            ],
            "image/png": "[encoded data removed]"
          },
          "metadata": {}
        },
        {
          "output_type": "display_data",
          "data": {
            "text/plain": [
              "<Figure size 640x480 with 1 Axes>"
            ],
            "image/png": "[encoded data removed]"
          },
          "metadata": {}
        },
        {
          "output_type": "display_data",
          "data": {
            "text/plain": [
              "<Figure size 640x480 with 1 Axes>"
            ],
            "image/png": "[encoded data removed]"
          },
          "metadata": {}
        },
        {
          "output_type": "display_data",
          "data": {
            "text/plain": [
              "<Figure size 640x480 with 1 Axes>"
            ],
            "image/png": "[encoded data removed]"
          },
          "metadata": {}
        },
        {
          "output_type": "display_data",
          "data": {
            "text/plain": [
              "<Figure size 640x480 with 1 Axes>"
            ],
            "image/png": "[encoded data removed]"
          },
          "metadata": {}
        },
        {
          "output_type": "display_data",
          "data": {
            "text/plain": [
              "<Figure size 640x480 with 1 Axes>"
            ],
            "image/png": "[encoded data removed]"
          },
          "metadata": {}
        },
        {
          "output_type": "display_data",
          "data": {
            "text/plain": [
              "<Figure size 640x480 with 1 Axes>"
            ],
            "image/png": "[encoded data removed]"
          },
          "metadata": {}
        },
        {
          "output_type": "display_data",
          "data": {
            "text/plain": [
              "<Figure size 640x480 with 1 Axes>"
            ],
            "image/png": "[encoded data removed]"
          },
          "metadata": {}
        },
        {
          "output_type": "display_data",
          "data": {
            "text/plain": [
              "<Figure size 640x480 with 1 Axes>"
            ],
            "image/png": "[encoded data removed]"
          },
          "metadata": {}
        }
      ],
      "source": [
        "import matplotlib.pyplot as plt\n",
        "\n",
        "numerical_cols = [\n",
        "    'Age', 'Academic Pressure', 'Work Pressure', 'CGPA',\n",
        "    'Study Satisfaction', 'Job Satisfaction', 'Sleep Duration',\n",
        "    'Dietary Habits', 'Degree', 'Work/Study Hours', 'Financial Stress'\n",
        "]\n",
        "\n",
        "for col in numerical_cols:\n",
        "    plt.figure()\n",
        "    df.boxplot(column=col)\n",
        "    plt.title(f\"Boxplot for {col}\")\n",
        "    plt.show()\n"
      ]
    },
    {
      "cell_type": "code",
      "execution_count": 119,
      "metadata": {
        "colab": {
          "base_uri": "https://localhost:8080/"
        },
        "id": "u-C-S22srhMh",
        "outputId": "539f98eb-1f4f-4318-c70f-9c0441cad69b"
      },
      "outputs": [
        {
          "output_type": "stream",
          "name": "stdout",
          "text": [
            "Dataset shape after removing outliers: (27860, 16)\n"
          ]
        }
      ],
      "source": [
        "# Loop through numerical columns\n",
        "for col in numerical_cols:\n",
        "    Q1 = df[col].quantile(0.25)\n",
        "    Q3 = df[col].quantile(0.75)\n",
        "    IQR = Q3 - Q1\n",
        "\n",
        "    # Keep only rows within the IQR range\n",
        "    df = df[(df[col] >= (Q1 - 1.5 * IQR)) & (df[col] <= (Q3 + 1.5 * IQR))]\n",
        "\n",
        "# Check new shape\n",
        "print(\"Dataset shape after removing outliers:\", df.shape)\n"
      ]
    },
    {
      "cell_type": "code",
      "execution_count": 120,
      "metadata": {
        "colab": {
          "base_uri": "https://localhost:8080/"
        },
        "id": "segbibCyrH37",
        "outputId": "a0d6da2c-a0e2-406d-863a-4206d23af72c"
      },
      "outputs": [
        {
          "output_type": "stream",
          "name": "stdout",
          "text": [
            "Number of rows: 27860\n"
          ]
        }
      ],
      "source": [
        "# Number of rows\n",
        "num_rows = df.shape[0]\n",
        "print(\"Number of rows:\", num_rows)"
      ]
    },
    {
      "cell_type": "code",
      "execution_count": 121,
      "metadata": {
        "colab": {
          "base_uri": "https://localhost:8080/"
        },
        "id": "NHWre6aimZY6",
        "outputId": "d8f98551-1b34-479b-ff40-4325c04e587f"
      },
      "outputs": [
        {
          "output_type": "stream",
          "name": "stdout",
          "text": [
            "X_train shape: (22288, 15)\n",
            "X_test shape: (5572, 15)\n",
            "y_train shape: (22288,)\n",
            "y_test shape: (5572,)\n"
          ]
        }
      ],
      "source": [
        "# Assuming 'Depression' is the target variable\n",
        "X = df.drop('Depression', axis=1)  # all features\n",
        "y = df['Depression']               # target column\n",
        "\n",
        "# Split the dataset into training and testing sets\n",
        "# 80% for training, 20% for testing\n",
        "X_train, X_test, y_train, y_test = train_test_split(\n",
        "    X, y, test_size=0.2, random_state=42  # random_state ensures reproducibility\n",
        ")\n",
        "\n",
        "# Print the shapes to verify\n",
        "print(\"X_train shape:\", X_train.shape)\n",
        "print(\"X_test shape:\", X_test.shape)\n",
        "print(\"y_train shape:\", y_train.shape)\n",
        "print(\"y_test shape:\", y_test.shape)"
      ]
    },
    {
      "cell_type": "code",
      "execution_count": 122,
      "metadata": {
        "colab": {
          "base_uri": "https://localhost:8080/"
        },
        "id": "JrxCa2yUsaun",
        "outputId": "60094546-cc28-4547-9084-fd278956467e"
      },
      "outputs": [
        {
          "output_type": "stream",
          "name": "stdout",
          "text": [
            "y_train distribution:\n",
            " Depression\n",
            "1    13041\n",
            "0     9247\n",
            "Name: count, dtype: int64\n",
            "\n",
            "(y_train percentages)\n",
            " Depression\n",
            "1    0.585\n",
            "0    0.415\n",
            "Name: proportion, dtype: float64\n",
            "\n",
            "y_test distribution:\n",
            " Depression\n",
            "1    3279\n",
            "0    2293\n",
            "Name: count, dtype: int64\n",
            "\n",
            "(y_test percentages)\n",
            " Depression\n",
            "1    0.588\n",
            "0    0.412\n",
            "Name: proportion, dtype: float64\n"
          ]
        }
      ],
      "source": [
        "print(\"y_train distribution:\\n\", y_train.value_counts())\n",
        "print(\"\\n(y_train percentages)\\n\", y_train.value_counts(normalize=True).round(3))\n",
        "\n",
        "print(\"\\ny_test distribution:\\n\", y_test.value_counts())\n",
        "print(\"\\n(y_test percentages)\\n\", y_test.value_counts(normalize=True).round(3))"
      ]
    },
    {
      "cell_type": "code",
      "execution_count": 123,
      "metadata": {
        "colab": {
          "base_uri": "https://localhost:8080/"
        },
        "id": "C61RbXiUshrg",
        "outputId": "1d23552a-ae28-4272-d4c4-882327c01f5d"
      },
      "outputs": [
        {
          "output_type": "stream",
          "name": "stdout",
          "text": [
            "Resampled y_train counts:\n",
            " Depression\n",
            "1    13041\n",
            "0    13041\n",
            "Name: count, dtype: int64\n"
          ]
        }
      ],
      "source": [
        "from imblearn.over_sampling import SMOTE\n",
        "\n",
        "# Initialize SMOTE\n",
        "sm = SMOTE(random_state=42)\n",
        "\n",
        "# Apply SMOTE only on training data\n",
        "X_train_res, y_train_res = sm.fit_resample(X_train, y_train)\n",
        "\n",
        "# Check the new distribution\n",
        "print(\"Resampled y_train counts:\\n\", y_train_res.value_counts())"
      ]
    },
    {
      "cell_type": "code",
      "execution_count": 124,
      "metadata": {
        "colab": {
          "base_uri": "https://localhost:8080/"
        },
        "id": "zk39T6MvspOY",
        "outputId": "a1b6d6d2-856a-4e5b-f769-c82a43cf27bc"
      },
      "outputs": [
        {
          "output_type": "stream",
          "name": "stdout",
          "text": [
            "X_train head:\n",
            "       Gender       Age  Profession  Academic Pressure  Work Pressure   CGPA  \\\n",
            "24260       1  0.146341           1                1.0            0.0  0.608   \n",
            "5028        1  0.317073           1                0.2            0.0  0.651   \n",
            "19895       0  0.048780           1                0.6            0.0  0.890   \n",
            "22409       1  0.243902           1                0.8            0.0  0.547   \n",
            "20733       1  0.317073           1                0.8            0.0  0.699   \n",
            "\n",
            "       Study Satisfaction  Job Satisfaction  Sleep Duration  Dietary Habits  \\\n",
            "24260                 0.4               0.0            0.75        1.000000   \n",
            "5028                  0.6               0.0            0.50        0.000000   \n",
            "19895                 0.8               0.0            0.50        0.333333   \n",
            "22409                 0.4               0.0            0.25        0.333333   \n",
            "20733                 0.2               0.0            0.25        0.333333   \n",
            "\n",
            "         Degree  Have you ever had suicidal thoughts ?  Work/Study Hours  \\\n",
            "24260  0.000000                                      1          0.250000   \n",
            "5028   0.703704                                      1          0.166667   \n",
            "19895  0.407407                                      0          0.000000   \n",
            "22409  0.407407                                      1          1.000000   \n",
            "20733  0.740741                                      1          1.000000   \n",
            "\n",
            "       Financial Stress  Family History of Mental Illness  \n",
            "24260               0.5                                 0  \n",
            "5028                0.5                                 0  \n",
            "19895               1.0                                 1  \n",
            "22409               0.0                                 1  \n",
            "20733               1.0                                 0  \n",
            "\n",
            "y_train head:\n",
            "24260    1\n",
            "5028     1\n",
            "19895    0\n",
            "22409    0\n",
            "20733    1\n",
            "Name: Depression, dtype: int64\n",
            "\n",
            "X_test head:\n",
            "       Gender       Age  Profession  Academic Pressure  Work Pressure   CGPA  \\\n",
            "13256       0  0.024390           1                1.0            0.0  0.546   \n",
            "3599        1  0.292683           1                0.2            0.0  0.710   \n",
            "5564        1  0.195122           1                0.2            0.0  0.995   \n",
            "7589        0  0.048780           1                0.8            0.0  0.580   \n",
            "13193       1  0.097561           1                0.2            0.0  0.944   \n",
            "\n",
            "       Study Satisfaction  Job Satisfaction  Sleep Duration  Dietary Habits  \\\n",
            "13256                 1.0               0.0            0.00        0.333333   \n",
            "3599                  0.4               0.0            0.50        0.000000   \n",
            "5564                  1.0               0.0            0.00        0.333333   \n",
            "7589                  1.0               0.0            0.00        0.333333   \n",
            "13193                 0.2               0.0            0.25        1.000000   \n",
            "\n",
            "         Degree  Have you ever had suicidal thoughts ?  Work/Study Hours  \\\n",
            "13256  0.407407                                      1          1.000000   \n",
            "3599   0.074074                                      0          0.833333   \n",
            "5564   0.814815                                      1          0.333333   \n",
            "7589   0.407407                                      0          1.000000   \n",
            "13193  0.259259                                      0          0.166667   \n",
            "\n",
            "       Financial Stress  Family History of Mental Illness  \n",
            "13256              0.75                                 0  \n",
            "3599               0.50                                 0  \n",
            "5564               0.25                                 1  \n",
            "7589               0.00                                 1  \n",
            "13193              1.00                                 0  \n",
            "\n",
            "y_test head:\n",
            "13256    1\n",
            "3599     0\n",
            "5564     0\n",
            "7589     1\n",
            "13193    0\n",
            "Name: Depression, dtype: int64\n"
          ]
        }
      ],
      "source": [
        "# Check first 5 rows of X_train\n",
        "print(\"X_train head:\")\n",
        "print(X_train.head())\n",
        "\n",
        "# Check first 5 rows of y_train\n",
        "print(\"\\ny_train head:\")\n",
        "print(y_train.head())\n",
        "\n",
        "# Check first 5 rows of X_test\n",
        "print(\"\\nX_test head:\")\n",
        "print(X_test.head())\n",
        "\n",
        "# Check first 5 rows of y_test\n",
        "print(\"\\ny_test head:\")\n",
        "print(y_test.head())"
      ]
    },
    {
      "cell_type": "markdown",
      "metadata": {
        "id": "ppiIMWX-oyBI"
      },
      "source": [
        "\n",
        "\n",
        "### **Model Training**\n"
      ]
    },
    {
      "cell_type": "code",
      "execution_count": 125,
      "metadata": {
        "id": "AIaxlJMPnbyq"
      },
      "outputs": [],
      "source": [
        "from sklearn.linear_model import LogisticRegression\n",
        "from sklearn.metrics import accuracy_score, confusion_matrix, classification_report"
      ]
    },
    {
      "cell_type": "code",
      "execution_count": 126,
      "metadata": {
        "colab": {
          "base_uri": "https://localhost:8080/",
          "height": 80
        },
        "id": "JBo9gEfIpbmL",
        "outputId": "b3243639-d042-4bf5-b273-93f5b1ef901d"
      },
      "outputs": [
        {
          "output_type": "execute_result",
          "data": {
            "text/plain": [
              "LogisticRegression()"
            ],
            "text/html": [
              "<style>#sk-container-id-3 {\n",
              "  /* Definition of color scheme common for light and dark mode */\n",
              "  --sklearn-color-text: #000;\n",
              "  --sklearn-color-text-muted: #666;\n",
              "  --sklearn-color-line: gray;\n",
              "  /* Definition of color scheme for unfitted estimators */\n",
              "  --sklearn-color-unfitted-level-0: #fff5e6;\n",
              "  --sklearn-color-unfitted-level-1: #f6e4d2;\n",
              "  --sklearn-color-unfitted-level-2: #ffe0b3;\n",
              "  --sklearn-color-unfitted-level-3: chocolate;\n",
              "  /* Definition of color scheme for fitted estimators */\n",
              "  --sklearn-color-fitted-level-0: #f0f8ff;\n",
              "  --sklearn-color-fitted-level-1: #d4ebff;\n",
              "  --sklearn-color-fitted-level-2: #b3dbfd;\n",
              "  --sklearn-color-fitted-level-3: cornflowerblue;\n",
              "\n",
              "  /* Specific color for light theme */\n",
              "  --sklearn-color-text-on-default-background: var(--sg-text-color, var(--theme-code-foreground, var(--jp-content-font-color1, black)));\n",
              "  --sklearn-color-background: var(--sg-background-color, var(--theme-background, var(--jp-layout-color0, white)));\n",
              "  --sklearn-color-border-box: var(--sg-text-color, var(--theme-code-foreground, var(--jp-content-font-color1, black)));\n",
              "  --sklearn-color-icon: #696969;\n",
              "\n",
              "  @media (prefers-color-scheme: dark) {\n",
              "    /* Redefinition of color scheme for dark theme */\n",
              "    --sklearn-color-text-on-default-background: var(--sg-text-color, var(--theme-code-foreground, var(--jp-content-font-color1, white)));\n",
              "    --sklearn-color-background: var(--sg-background-color, var(--theme-background, var(--jp-layout-color0, #111)));\n",
              "    --sklearn-color-border-box: var(--sg-text-color, var(--theme-code-foreground, var(--jp-content-font-color1, white)));\n",
              "    --sklearn-color-icon: #878787;\n",
              "  }\n",
              "}\n",
              "\n",
              "#sk-container-id-3 {\n",
              "  color: var(--sklearn-color-text);\n",
              "}\n",
              "\n",
              "#sk-container-id-3 pre {\n",
              "  padding: 0;\n",
              "}\n",
              "\n",
              "#sk-container-id-3 input.sk-hidden--visually {\n",
              "  border: 0;\n",
              "  clip: rect(1px 1px 1px 1px);\n",
              "  clip: rect(1px, 1px, 1px, 1px);\n",
              "  height: 1px;\n",
              "  margin: -1px;\n",
              "  overflow: hidden;\n",
              "  padding: 0;\n",
              "  position: absolute;\n",
              "  width: 1px;\n",
              "}\n",
              "\n",
              "#sk-container-id-3 div.sk-dashed-wrapped {\n",
              "  border: 1px dashed var(--sklearn-color-line);\n",
              "  margin: 0 0.4em 0.5em 0.4em;\n",
              "  box-sizing: border-box;\n",
              "  padding-bottom: 0.4em;\n",
              "  background-color: var(--sklearn-color-background);\n",
              "}\n",
              "\n",
              "#sk-container-id-3 div.sk-container {\n",
              "  /* jupyter's `normalize.less` sets `[hidden] { display: none; }`\n",
              "     but bootstrap.min.css set `[hidden] { display: none !important; }`\n",
              "     so we also need the `!important` here to be able to override the\n",
              "     default hidden behavior on the sphinx rendered scikit-learn.org.\n",
              "     See: https://github.com/scikit-learn/scikit-learn/issues/21755 */\n",
              "  display: inline-block !important;\n",
              "  position: relative;\n",
              "}\n",
              "\n",
              "#sk-container-id-3 div.sk-text-repr-fallback {\n",
              "  display: none;\n",
              "}\n",
              "\n",
              "div.sk-parallel-item,\n",
              "div.sk-serial,\n",
              "div.sk-item {\n",
              "  /* draw centered vertical line to link estimators */\n",
              "  background-image: linear-gradient(var(--sklearn-color-text-on-default-background), var(--sklearn-color-text-on-default-background));\n",
              "  background-size: 2px 100%;\n",
              "  background-repeat: no-repeat;\n",
              "  background-position: center center;\n",
              "}\n",
              "\n",
              "/* Parallel-specific style estimator block */\n",
              "\n",
              "#sk-container-id-3 div.sk-parallel-item::after {\n",
              "  content: \"\";\n",
              "  width: 100%;\n",
              "  border-bottom: 2px solid var(--sklearn-color-text-on-default-background);\n",
              "  flex-grow: 1;\n",
              "}\n",
              "\n",
              "#sk-container-id-3 div.sk-parallel {\n",
              "  display: flex;\n",
              "  align-items: stretch;\n",
              "  justify-content: center;\n",
              "  background-color: var(--sklearn-color-background);\n",
              "  position: relative;\n",
              "}\n",
              "\n",
              "#sk-container-id-3 div.sk-parallel-item {\n",
              "  display: flex;\n",
              "  flex-direction: column;\n",
              "}\n",
              "\n",
              "#sk-container-id-3 div.sk-parallel-item:first-child::after {\n",
              "  align-self: flex-end;\n",
              "  width: 50%;\n",
              "}\n",
              "\n",
              "#sk-container-id-3 div.sk-parallel-item:last-child::after {\n",
              "  align-self: flex-start;\n",
              "  width: 50%;\n",
              "}\n",
              "\n",
              "#sk-container-id-3 div.sk-parallel-item:only-child::after {\n",
              "  width: 0;\n",
              "}\n",
              "\n",
              "/* Serial-specific style estimator block */\n",
              "\n",
              "#sk-container-id-3 div.sk-serial {\n",
              "  display: flex;\n",
              "  flex-direction: column;\n",
              "  align-items: center;\n",
              "  background-color: var(--sklearn-color-background);\n",
              "  padding-right: 1em;\n",
              "  padding-left: 1em;\n",
              "}\n",
              "\n",
              "\n",
              "/* Toggleable style: style used for estimator/Pipeline/ColumnTransformer box that is\n",
              "clickable and can be expanded/collapsed.\n",
              "- Pipeline and ColumnTransformer use this feature and define the default style\n",
              "- Estimators will overwrite some part of the style using the `sk-estimator` class\n",
              "*/\n",
              "\n",
              "/* Pipeline and ColumnTransformer style (default) */\n",
              "\n",
              "#sk-container-id-3 div.sk-toggleable {\n",
              "  /* Default theme specific background. It is overwritten whether we have a\n",
              "  specific estimator or a Pipeline/ColumnTransformer */\n",
              "  background-color: var(--sklearn-color-background);\n",
              "}\n",
              "\n",
              "/* Toggleable label */\n",
              "#sk-container-id-3 label.sk-toggleable__label {\n",
              "  cursor: pointer;\n",
              "  display: flex;\n",
              "  width: 100%;\n",
              "  margin-bottom: 0;\n",
              "  padding: 0.5em;\n",
              "  box-sizing: border-box;\n",
              "  text-align: center;\n",
              "  align-items: start;\n",
              "  justify-content: space-between;\n",
              "  gap: 0.5em;\n",
              "}\n",
              "\n",
              "#sk-container-id-3 label.sk-toggleable__label .caption {\n",
              "  font-size: 0.6rem;\n",
              "  font-weight: lighter;\n",
              "  color: var(--sklearn-color-text-muted);\n",
              "}\n",
              "\n",
              "#sk-container-id-3 label.sk-toggleable__label-arrow:before {\n",
              "  /* Arrow on the left of the label */\n",
              "  content: \"▸\";\n",
              "  float: left;\n",
              "  margin-right: 0.25em;\n",
              "  color: var(--sklearn-color-icon);\n",
              "}\n",
              "\n",
              "#sk-container-id-3 label.sk-toggleable__label-arrow:hover:before {\n",
              "  color: var(--sklearn-color-text);\n",
              "}\n",
              "\n",
              "/* Toggleable content - dropdown */\n",
              "\n",
              "#sk-container-id-3 div.sk-toggleable__content {\n",
              "  max-height: 0;\n",
              "  max-width: 0;\n",
              "  overflow: hidden;\n",
              "  text-align: left;\n",
              "  /* unfitted */\n",
              "  background-color: var(--sklearn-color-unfitted-level-0);\n",
              "}\n",
              "\n",
              "#sk-container-id-3 div.sk-toggleable__content.fitted {\n",
              "  /* fitted */\n",
              "  background-color: var(--sklearn-color-fitted-level-0);\n",
              "}\n",
              "\n",
              "#sk-container-id-3 div.sk-toggleable__content pre {\n",
              "  margin: 0.2em;\n",
              "  border-radius: 0.25em;\n",
              "  color: var(--sklearn-color-text);\n",
              "  /* unfitted */\n",
              "  background-color: var(--sklearn-color-unfitted-level-0);\n",
              "}\n",
              "\n",
              "#sk-container-id-3 div.sk-toggleable__content.fitted pre {\n",
              "  /* unfitted */\n",
              "  background-color: var(--sklearn-color-fitted-level-0);\n",
              "}\n",
              "\n",
              "#sk-container-id-3 input.sk-toggleable__control:checked~div.sk-toggleable__content {\n",
              "  /* Expand drop-down */\n",
              "  max-height: 200px;\n",
              "  max-width: 100%;\n",
              "  overflow: auto;\n",
              "}\n",
              "\n",
              "#sk-container-id-3 input.sk-toggleable__control:checked~label.sk-toggleable__label-arrow:before {\n",
              "  content: \"▾\";\n",
              "}\n",
              "\n",
              "/* Pipeline/ColumnTransformer-specific style */\n",
              "\n",
              "#sk-container-id-3 div.sk-label input.sk-toggleable__control:checked~label.sk-toggleable__label {\n",
              "  color: var(--sklearn-color-text);\n",
              "  background-color: var(--sklearn-color-unfitted-level-2);\n",
              "}\n",
              "\n",
              "#sk-container-id-3 div.sk-label.fitted input.sk-toggleable__control:checked~label.sk-toggleable__label {\n",
              "  background-color: var(--sklearn-color-fitted-level-2);\n",
              "}\n",
              "\n",
              "/* Estimator-specific style */\n",
              "\n",
              "/* Colorize estimator box */\n",
              "#sk-container-id-3 div.sk-estimator input.sk-toggleable__control:checked~label.sk-toggleable__label {\n",
              "  /* unfitted */\n",
              "  background-color: var(--sklearn-color-unfitted-level-2);\n",
              "}\n",
              "\n",
              "#sk-container-id-3 div.sk-estimator.fitted input.sk-toggleable__control:checked~label.sk-toggleable__label {\n",
              "  /* fitted */\n",
              "  background-color: var(--sklearn-color-fitted-level-2);\n",
              "}\n",
              "\n",
              "#sk-container-id-3 div.sk-label label.sk-toggleable__label,\n",
              "#sk-container-id-3 div.sk-label label {\n",
              "  /* The background is the default theme color */\n",
              "  color: var(--sklearn-color-text-on-default-background);\n",
              "}\n",
              "\n",
              "/* On hover, darken the color of the background */\n",
              "#sk-container-id-3 div.sk-label:hover label.sk-toggleable__label {\n",
              "  color: var(--sklearn-color-text);\n",
              "  background-color: var(--sklearn-color-unfitted-level-2);\n",
              "}\n",
              "\n",
              "/* Label box, darken color on hover, fitted */\n",
              "#sk-container-id-3 div.sk-label.fitted:hover label.sk-toggleable__label.fitted {\n",
              "  color: var(--sklearn-color-text);\n",
              "  background-color: var(--sklearn-color-fitted-level-2);\n",
              "}\n",
              "\n",
              "/* Estimator label */\n",
              "\n",
              "#sk-container-id-3 div.sk-label label {\n",
              "  font-family: monospace;\n",
              "  font-weight: bold;\n",
              "  display: inline-block;\n",
              "  line-height: 1.2em;\n",
              "}\n",
              "\n",
              "#sk-container-id-3 div.sk-label-container {\n",
              "  text-align: center;\n",
              "}\n",
              "\n",
              "/* Estimator-specific */\n",
              "#sk-container-id-3 div.sk-estimator {\n",
              "  font-family: monospace;\n",
              "  border: 1px dotted var(--sklearn-color-border-box);\n",
              "  border-radius: 0.25em;\n",
              "  box-sizing: border-box;\n",
              "  margin-bottom: 0.5em;\n",
              "  /* unfitted */\n",
              "  background-color: var(--sklearn-color-unfitted-level-0);\n",
              "}\n",
              "\n",
              "#sk-container-id-3 div.sk-estimator.fitted {\n",
              "  /* fitted */\n",
              "  background-color: var(--sklearn-color-fitted-level-0);\n",
              "}\n",
              "\n",
              "/* on hover */\n",
              "#sk-container-id-3 div.sk-estimator:hover {\n",
              "  /* unfitted */\n",
              "  background-color: var(--sklearn-color-unfitted-level-2);\n",
              "}\n",
              "\n",
              "#sk-container-id-3 div.sk-estimator.fitted:hover {\n",
              "  /* fitted */\n",
              "  background-color: var(--sklearn-color-fitted-level-2);\n",
              "}\n",
              "\n",
              "/* Specification for estimator info (e.g. \"i\" and \"?\") */\n",
              "\n",
              "/* Common style for \"i\" and \"?\" */\n",
              "\n",
              ".sk-estimator-doc-link,\n",
              "a:link.sk-estimator-doc-link,\n",
              "a:visited.sk-estimator-doc-link {\n",
              "  float: right;\n",
              "  font-size: smaller;\n",
              "  line-height: 1em;\n",
              "  font-family: monospace;\n",
              "  background-color: var(--sklearn-color-background);\n",
              "  border-radius: 1em;\n",
              "  height: 1em;\n",
              "  width: 1em;\n",
              "  text-decoration: none !important;\n",
              "  margin-left: 0.5em;\n",
              "  text-align: center;\n",
              "  /* unfitted */\n",
              "  border: var(--sklearn-color-unfitted-level-1) 1pt solid;\n",
              "  color: var(--sklearn-color-unfitted-level-1);\n",
              "}\n",
              "\n",
              ".sk-estimator-doc-link.fitted,\n",
              "a:link.sk-estimator-doc-link.fitted,\n",
              "a:visited.sk-estimator-doc-link.fitted {\n",
              "  /* fitted */\n",
              "  border: var(--sklearn-color-fitted-level-1) 1pt solid;\n",
              "  color: var(--sklearn-color-fitted-level-1);\n",
              "}\n",
              "\n",
              "/* On hover */\n",
              "div.sk-estimator:hover .sk-estimator-doc-link:hover,\n",
              ".sk-estimator-doc-link:hover,\n",
              "div.sk-label-container:hover .sk-estimator-doc-link:hover,\n",
              ".sk-estimator-doc-link:hover {\n",
              "  /* unfitted */\n",
              "  background-color: var(--sklearn-color-unfitted-level-3);\n",
              "  color: var(--sklearn-color-background);\n",
              "  text-decoration: none;\n",
              "}\n",
              "\n",
              "div.sk-estimator.fitted:hover .sk-estimator-doc-link.fitted:hover,\n",
              ".sk-estimator-doc-link.fitted:hover,\n",
              "div.sk-label-container:hover .sk-estimator-doc-link.fitted:hover,\n",
              ".sk-estimator-doc-link.fitted:hover {\n",
              "  /* fitted */\n",
              "  background-color: var(--sklearn-color-fitted-level-3);\n",
              "  color: var(--sklearn-color-background);\n",
              "  text-decoration: none;\n",
              "}\n",
              "\n",
              "/* Span, style for the box shown on hovering the info icon */\n",
              ".sk-estimator-doc-link span {\n",
              "  display: none;\n",
              "  z-index: 9999;\n",
              "  position: relative;\n",
              "  font-weight: normal;\n",
              "  right: .2ex;\n",
              "  padding: .5ex;\n",
              "  margin: .5ex;\n",
              "  width: min-content;\n",
              "  min-width: 20ex;\n",
              "  max-width: 50ex;\n",
              "  color: var(--sklearn-color-text);\n",
              "  box-shadow: 2pt 2pt 4pt #999;\n",
              "  /* unfitted */\n",
              "  background: var(--sklearn-color-unfitted-level-0);\n",
              "  border: .5pt solid var(--sklearn-color-unfitted-level-3);\n",
              "}\n",
              "\n",
              ".sk-estimator-doc-link.fitted span {\n",
              "  /* fitted */\n",
              "  background: var(--sklearn-color-fitted-level-0);\n",
              "  border: var(--sklearn-color-fitted-level-3);\n",
              "}\n",
              "\n",
              ".sk-estimator-doc-link:hover span {\n",
              "  display: block;\n",
              "}\n",
              "\n",
              "/* \"?\"-specific style due to the `<a>` HTML tag */\n",
              "\n",
              "#sk-container-id-3 a.estimator_doc_link {\n",
              "  float: right;\n",
              "  font-size: 1rem;\n",
              "  line-height: 1em;\n",
              "  font-family: monospace;\n",
              "  background-color: var(--sklearn-color-background);\n",
              "  border-radius: 1rem;\n",
              "  height: 1rem;\n",
              "  width: 1rem;\n",
              "  text-decoration: none;\n",
              "  /* unfitted */\n",
              "  color: var(--sklearn-color-unfitted-level-1);\n",
              "  border: var(--sklearn-color-unfitted-level-1) 1pt solid;\n",
              "}\n",
              "\n",
              "#sk-container-id-3 a.estimator_doc_link.fitted {\n",
              "  /* fitted */\n",
              "  border: var(--sklearn-color-fitted-level-1) 1pt solid;\n",
              "  color: var(--sklearn-color-fitted-level-1);\n",
              "}\n",
              "\n",
              "/* On hover */\n",
              "#sk-container-id-3 a.estimator_doc_link:hover {\n",
              "  /* unfitted */\n",
              "  background-color: var(--sklearn-color-unfitted-level-3);\n",
              "  color: var(--sklearn-color-background);\n",
              "  text-decoration: none;\n",
              "}\n",
              "\n",
              "#sk-container-id-3 a.estimator_doc_link.fitted:hover {\n",
              "  /* fitted */\n",
              "  background-color: var(--sklearn-color-fitted-level-3);\n",
              "}\n",
              "</style><div id=\"sk-container-id-3\" class=\"sk-top-container\"><div class=\"sk-text-repr-fallback\"><pre>LogisticRegression()</pre><b>In a Jupyter environment, please rerun this cell to show the HTML representation or trust the notebook. <br />On GitHub, the HTML representation is unable to render, please try loading this page with nbviewer.org.</b></div><div class=\"sk-container\" hidden><div class=\"sk-item\"><div class=\"sk-estimator fitted sk-toggleable\"><input class=\"sk-toggleable__control sk-hidden--visually\" id=\"sk-estimator-id-3\" type=\"checkbox\" checked><label for=\"sk-estimator-id-3\" class=\"sk-toggleable__label fitted sk-toggleable__label-arrow\"><div><div>LogisticRegression</div></div><div><a class=\"sk-estimator-doc-link fitted\" rel=\"noreferrer\" target=\"_blank\" href=\"https://scikit-learn.org/1.6/modules/generated/sklearn.linear_model.LogisticRegression.html\">?<span>Documentation for LogisticRegression</span></a><span class=\"sk-estimator-doc-link fitted\">i<span>Fitted</span></span></div></label><div class=\"sk-toggleable__content fitted\"><pre>LogisticRegression()</pre></div> </div></div></div></div>"
            ]
          },
          "metadata": {},
          "execution_count": 126
        }
      ],
      "source": [
        "# Initialize Logistic Regression model\n",
        "model = LogisticRegression()\n",
        "\n",
        "# Train the model\n",
        "model.fit(X_train, y_train)"
      ]
    },
    {
      "cell_type": "code",
      "execution_count": 127,
      "metadata": {
        "id": "4UIVBcwHpfb_"
      },
      "outputs": [],
      "source": [
        "# Predict the class labels for X_test\n",
        "y_pred = model.predict(X_test)\n",
        "\n",
        "# Optional: get probabilities for class 1 (depression)\n",
        "y_proba = model.predict_proba(X_test)[:, 1]"
      ]
    },
    {
      "cell_type": "code",
      "execution_count": 128,
      "metadata": {
        "colab": {
          "base_uri": "https://localhost:8080/"
        },
        "id": "iARdrZOUs2o6",
        "outputId": "f7ca0956-eff2-45f6-ee45-783f0960cc45"
      },
      "outputs": [
        {
          "output_type": "stream",
          "name": "stdout",
          "text": [
            "Accuracy on test set: 0.8594759511844939\n"
          ]
        }
      ],
      "source": [
        "from sklearn.metrics import accuracy_score\n",
        "\n",
        "accuracy = accuracy_score(y_test, y_pred)\n",
        "print(\"Accuracy on test set:\", accuracy)"
      ]
    },
    {
      "cell_type": "code",
      "execution_count": 129,
      "metadata": {
        "colab": {
          "base_uri": "https://localhost:8080/"
        },
        "id": "JIqWL8yBs4fM",
        "outputId": "8ad6a284-f727-41f7-94de-b78105a6daf8"
      },
      "outputs": [
        {
          "output_type": "stream",
          "name": "stdout",
          "text": [
            "Classification Report:\n",
            "              precision    recall  f1-score   support\n",
            "\n",
            "           0      0.841     0.812     0.826      2293\n",
            "           1      0.871     0.893     0.882      3279\n",
            "\n",
            "    accuracy                          0.859      5572\n",
            "   macro avg      0.856     0.852     0.854      5572\n",
            "weighted avg      0.859     0.859     0.859      5572\n",
            "\n"
          ]
        }
      ],
      "source": [
        "from sklearn.metrics import classification_report\n",
        "\n",
        "print(\"Classification Report:\")\n",
        "print(classification_report(y_test, y_pred, digits=3))\n"
      ]
    },
    {
      "cell_type": "code",
      "execution_count": 130,
      "metadata": {
        "colab": {
          "base_uri": "https://localhost:8080/"
        },
        "id": "jk9J7WN-s_2s",
        "outputId": "713bf284-1821-4cb8-9de0-69710f9b83e1"
      },
      "outputs": [
        {
          "output_type": "stream",
          "name": "stdout",
          "text": [
            "Confusion Matrix:\n",
            "[[1861  432]\n",
            " [ 351 2928]]\n"
          ]
        }
      ],
      "source": [
        "from sklearn.metrics import confusion_matrix\n",
        "\n",
        "cm = confusion_matrix(y_test, y_pred)\n",
        "print(\"Confusion Matrix:\")\n",
        "print(cm)"
      ]
    },
    {
      "cell_type": "code",
      "execution_count": 131,
      "metadata": {
        "colab": {
          "base_uri": "https://localhost:8080/"
        },
        "id": "9b6TBAu1tCIB",
        "outputId": "26d2686d-9c97-4d92-bf6c-be0af61b67f7"
      },
      "outputs": [
        {
          "output_type": "stream",
          "name": "stdout",
          "text": [
            "Model and Scaler saved successfully!\n"
          ]
        }
      ],
      "source": [
        "import pickle\n",
        "\n",
        "# Save the trained model\n",
        "with open(\"model.pkl\", \"wb\") as model_file:\n",
        "    pickle.dump(model, model_file)\n",
        "\n",
        "# Save the scaler\n",
        "with open(\"scaler.pkl\", \"wb\") as scaler_file:\n",
        "    pickle.dump(scaler, scaler_file)\n",
        "\n",
        "print(\"Model and Scaler saved successfully!\")\n"
      ]
    },
    {
      "cell_type": "code",
      "execution_count": 131,
      "metadata": {
        "id": "IarwLrSpX96O"
      },
      "outputs": [],
      "source": []
    }
  ],
  "metadata": {
    "colab": {
      "provenance": []
    },
    "kernelspec": {
      "display_name": "Python 3",
      "name": "python3"
    },
    "language_info": {
      "name": "python"
    }
  },
  "nbformat": 4,
  "nbformat_minor": 0
}